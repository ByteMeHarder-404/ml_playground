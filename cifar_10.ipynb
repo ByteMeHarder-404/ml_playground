{
  "nbformat": 4,
  "nbformat_minor": 0,
  "metadata": {
    "colab": {
      "provenance": []
    },
    "kernelspec": {
      "name": "python3",
      "display_name": "Python 3"
    },
    "language_info": {
      "name": "python"
    },
    "widgets": {
      "application/vnd.jupyter.widget-state+json": {
        "429fc27cb9e145a6b1db968a419386c2": {
          "model_module": "@jupyter-widgets/controls",
          "model_name": "HBoxModel",
          "model_module_version": "1.5.0",
          "state": {
            "_dom_classes": [],
            "_model_module": "@jupyter-widgets/controls",
            "_model_module_version": "1.5.0",
            "_model_name": "HBoxModel",
            "_view_count": null,
            "_view_module": "@jupyter-widgets/controls",
            "_view_module_version": "1.5.0",
            "_view_name": "HBoxView",
            "box_style": "",
            "children": [
              "IPY_MODEL_d0e5f8a05b82421b8ed50fe15e0fd5a9",
              "IPY_MODEL_bd41a7a30a16467f99a9a6d762583494",
              "IPY_MODEL_71260ef9039e4277ade9c7b047e45986"
            ],
            "layout": "IPY_MODEL_763ea406901149f08565ded4c7db9cd0"
          }
        },
        "d0e5f8a05b82421b8ed50fe15e0fd5a9": {
          "model_module": "@jupyter-widgets/controls",
          "model_name": "HTMLModel",
          "model_module_version": "1.5.0",
          "state": {
            "_dom_classes": [],
            "_model_module": "@jupyter-widgets/controls",
            "_model_module_version": "1.5.0",
            "_model_name": "HTMLModel",
            "_view_count": null,
            "_view_module": "@jupyter-widgets/controls",
            "_view_module_version": "1.5.0",
            "_view_name": "HTMLView",
            "description": "",
            "description_tooltip": null,
            "layout": "IPY_MODEL_2887f7e029844e50a5c1d161bd6c2f39",
            "placeholder": "​",
            "style": "IPY_MODEL_dfdda42dc7344725b4d9706110f9d7f9",
            "value": "100%"
          }
        },
        "bd41a7a30a16467f99a9a6d762583494": {
          "model_module": "@jupyter-widgets/controls",
          "model_name": "FloatProgressModel",
          "model_module_version": "1.5.0",
          "state": {
            "_dom_classes": [],
            "_model_module": "@jupyter-widgets/controls",
            "_model_module_version": "1.5.0",
            "_model_name": "FloatProgressModel",
            "_view_count": null,
            "_view_module": "@jupyter-widgets/controls",
            "_view_module_version": "1.5.0",
            "_view_name": "ProgressView",
            "bar_style": "success",
            "description": "",
            "description_tooltip": null,
            "layout": "IPY_MODEL_1bc85e26dbae4a9e87c8a35a2f70979d",
            "max": 10,
            "min": 0,
            "orientation": "horizontal",
            "style": "IPY_MODEL_0aeb1ba99a774928ab8041194638de3d",
            "value": 10
          }
        },
        "71260ef9039e4277ade9c7b047e45986": {
          "model_module": "@jupyter-widgets/controls",
          "model_name": "HTMLModel",
          "model_module_version": "1.5.0",
          "state": {
            "_dom_classes": [],
            "_model_module": "@jupyter-widgets/controls",
            "_model_module_version": "1.5.0",
            "_model_name": "HTMLModel",
            "_view_count": null,
            "_view_module": "@jupyter-widgets/controls",
            "_view_module_version": "1.5.0",
            "_view_name": "HTMLView",
            "description": "",
            "description_tooltip": null,
            "layout": "IPY_MODEL_1e8cc388c0a2465085ac70e4bf740264",
            "placeholder": "​",
            "style": "IPY_MODEL_832876e8960548568dbe5b88c209962e",
            "value": " 10/10 [2:01:59&lt;00:00, 729.68s/it]"
          }
        },
        "763ea406901149f08565ded4c7db9cd0": {
          "model_module": "@jupyter-widgets/base",
          "model_name": "LayoutModel",
          "model_module_version": "1.2.0",
          "state": {
            "_model_module": "@jupyter-widgets/base",
            "_model_module_version": "1.2.0",
            "_model_name": "LayoutModel",
            "_view_count": null,
            "_view_module": "@jupyter-widgets/base",
            "_view_module_version": "1.2.0",
            "_view_name": "LayoutView",
            "align_content": null,
            "align_items": null,
            "align_self": null,
            "border": null,
            "bottom": null,
            "display": null,
            "flex": null,
            "flex_flow": null,
            "grid_area": null,
            "grid_auto_columns": null,
            "grid_auto_flow": null,
            "grid_auto_rows": null,
            "grid_column": null,
            "grid_gap": null,
            "grid_row": null,
            "grid_template_areas": null,
            "grid_template_columns": null,
            "grid_template_rows": null,
            "height": null,
            "justify_content": null,
            "justify_items": null,
            "left": null,
            "margin": null,
            "max_height": null,
            "max_width": null,
            "min_height": null,
            "min_width": null,
            "object_fit": null,
            "object_position": null,
            "order": null,
            "overflow": null,
            "overflow_x": null,
            "overflow_y": null,
            "padding": null,
            "right": null,
            "top": null,
            "visibility": null,
            "width": null
          }
        },
        "2887f7e029844e50a5c1d161bd6c2f39": {
          "model_module": "@jupyter-widgets/base",
          "model_name": "LayoutModel",
          "model_module_version": "1.2.0",
          "state": {
            "_model_module": "@jupyter-widgets/base",
            "_model_module_version": "1.2.0",
            "_model_name": "LayoutModel",
            "_view_count": null,
            "_view_module": "@jupyter-widgets/base",
            "_view_module_version": "1.2.0",
            "_view_name": "LayoutView",
            "align_content": null,
            "align_items": null,
            "align_self": null,
            "border": null,
            "bottom": null,
            "display": null,
            "flex": null,
            "flex_flow": null,
            "grid_area": null,
            "grid_auto_columns": null,
            "grid_auto_flow": null,
            "grid_auto_rows": null,
            "grid_column": null,
            "grid_gap": null,
            "grid_row": null,
            "grid_template_areas": null,
            "grid_template_columns": null,
            "grid_template_rows": null,
            "height": null,
            "justify_content": null,
            "justify_items": null,
            "left": null,
            "margin": null,
            "max_height": null,
            "max_width": null,
            "min_height": null,
            "min_width": null,
            "object_fit": null,
            "object_position": null,
            "order": null,
            "overflow": null,
            "overflow_x": null,
            "overflow_y": null,
            "padding": null,
            "right": null,
            "top": null,
            "visibility": null,
            "width": null
          }
        },
        "dfdda42dc7344725b4d9706110f9d7f9": {
          "model_module": "@jupyter-widgets/controls",
          "model_name": "DescriptionStyleModel",
          "model_module_version": "1.5.0",
          "state": {
            "_model_module": "@jupyter-widgets/controls",
            "_model_module_version": "1.5.0",
            "_model_name": "DescriptionStyleModel",
            "_view_count": null,
            "_view_module": "@jupyter-widgets/base",
            "_view_module_version": "1.2.0",
            "_view_name": "StyleView",
            "description_width": ""
          }
        },
        "1bc85e26dbae4a9e87c8a35a2f70979d": {
          "model_module": "@jupyter-widgets/base",
          "model_name": "LayoutModel",
          "model_module_version": "1.2.0",
          "state": {
            "_model_module": "@jupyter-widgets/base",
            "_model_module_version": "1.2.0",
            "_model_name": "LayoutModel",
            "_view_count": null,
            "_view_module": "@jupyter-widgets/base",
            "_view_module_version": "1.2.0",
            "_view_name": "LayoutView",
            "align_content": null,
            "align_items": null,
            "align_self": null,
            "border": null,
            "bottom": null,
            "display": null,
            "flex": null,
            "flex_flow": null,
            "grid_area": null,
            "grid_auto_columns": null,
            "grid_auto_flow": null,
            "grid_auto_rows": null,
            "grid_column": null,
            "grid_gap": null,
            "grid_row": null,
            "grid_template_areas": null,
            "grid_template_columns": null,
            "grid_template_rows": null,
            "height": null,
            "justify_content": null,
            "justify_items": null,
            "left": null,
            "margin": null,
            "max_height": null,
            "max_width": null,
            "min_height": null,
            "min_width": null,
            "object_fit": null,
            "object_position": null,
            "order": null,
            "overflow": null,
            "overflow_x": null,
            "overflow_y": null,
            "padding": null,
            "right": null,
            "top": null,
            "visibility": null,
            "width": null
          }
        },
        "0aeb1ba99a774928ab8041194638de3d": {
          "model_module": "@jupyter-widgets/controls",
          "model_name": "ProgressStyleModel",
          "model_module_version": "1.5.0",
          "state": {
            "_model_module": "@jupyter-widgets/controls",
            "_model_module_version": "1.5.0",
            "_model_name": "ProgressStyleModel",
            "_view_count": null,
            "_view_module": "@jupyter-widgets/base",
            "_view_module_version": "1.2.0",
            "_view_name": "StyleView",
            "bar_color": null,
            "description_width": ""
          }
        },
        "1e8cc388c0a2465085ac70e4bf740264": {
          "model_module": "@jupyter-widgets/base",
          "model_name": "LayoutModel",
          "model_module_version": "1.2.0",
          "state": {
            "_model_module": "@jupyter-widgets/base",
            "_model_module_version": "1.2.0",
            "_model_name": "LayoutModel",
            "_view_count": null,
            "_view_module": "@jupyter-widgets/base",
            "_view_module_version": "1.2.0",
            "_view_name": "LayoutView",
            "align_content": null,
            "align_items": null,
            "align_self": null,
            "border": null,
            "bottom": null,
            "display": null,
            "flex": null,
            "flex_flow": null,
            "grid_area": null,
            "grid_auto_columns": null,
            "grid_auto_flow": null,
            "grid_auto_rows": null,
            "grid_column": null,
            "grid_gap": null,
            "grid_row": null,
            "grid_template_areas": null,
            "grid_template_columns": null,
            "grid_template_rows": null,
            "height": null,
            "justify_content": null,
            "justify_items": null,
            "left": null,
            "margin": null,
            "max_height": null,
            "max_width": null,
            "min_height": null,
            "min_width": null,
            "object_fit": null,
            "object_position": null,
            "order": null,
            "overflow": null,
            "overflow_x": null,
            "overflow_y": null,
            "padding": null,
            "right": null,
            "top": null,
            "visibility": null,
            "width": null
          }
        },
        "832876e8960548568dbe5b88c209962e": {
          "model_module": "@jupyter-widgets/controls",
          "model_name": "DescriptionStyleModel",
          "model_module_version": "1.5.0",
          "state": {
            "_model_module": "@jupyter-widgets/controls",
            "_model_module_version": "1.5.0",
            "_model_name": "DescriptionStyleModel",
            "_view_count": null,
            "_view_module": "@jupyter-widgets/base",
            "_view_module_version": "1.2.0",
            "_view_name": "StyleView",
            "description_width": ""
          }
        }
      }
    }
  },
  "cells": [
    {
      "cell_type": "code",
      "execution_count": null,
      "metadata": {
        "id": "7wyp1-4If4-A"
      },
      "outputs": [],
      "source": [
        "import torch\n",
        "from torch import nn\n",
        "import torchvision\n",
        "from torchvision import datasets,transforms"
      ]
    },
    {
      "cell_type": "code",
      "source": [
        "tfm=transforms.Compose([\n",
        "    transforms.ToTensor()\n",
        "    ])\n",
        "tfm2=transforms.Compose([\n",
        "    transforms.RandomHorizontalFlip(0.6),\n",
        "    transforms.ToTensor()\n",
        "    ])"
      ],
      "metadata": {
        "id": "okUWKyyNpJSt"
      },
      "execution_count": null,
      "outputs": []
    },
    {
      "cell_type": "code",
      "source": [
        "from torch.utils.data import DataLoader\n",
        "train=datasets.CIFAR10(root='data',train=True,download=True,transform=tfm2)"
      ],
      "metadata": {
        "id": "oJzRG8RrrNZ0"
      },
      "execution_count": null,
      "outputs": []
    },
    {
      "cell_type": "code",
      "source": [
        "test=datasets.CIFAR10(root='data',train=False,download=True,transform=tfm)"
      ],
      "metadata": {
        "id": "Ogr2oFuUt4Um"
      },
      "execution_count": null,
      "outputs": []
    },
    {
      "cell_type": "code",
      "source": [
        "len(train),len(test)"
      ],
      "metadata": {
        "colab": {
          "base_uri": "https://localhost:8080/"
        },
        "id": "ksoHdiHmuk42",
        "outputId": "4bb5524a-97ee-4b41-d336-ef05abfc7560"
      },
      "execution_count": null,
      "outputs": [
        {
          "output_type": "execute_result",
          "data": {
            "text/plain": [
              "(50000, 10000)"
            ]
          },
          "metadata": {},
          "execution_count": 23
        }
      ]
    },
    {
      "cell_type": "code",
      "source": [
        "training=DataLoader(train,batch_size=33,shuffle=True,num_workers=2)\n",
        "testing=DataLoader(test,batch_size=33,num_workers=2)"
      ],
      "metadata": {
        "id": "3-95Tdp2us5J"
      },
      "execution_count": null,
      "outputs": []
    },
    {
      "cell_type": "code",
      "source": [
        "image,label=test[100]\n",
        "image,label"
      ],
      "metadata": {
        "colab": {
          "base_uri": "https://localhost:8080/"
        },
        "id": "h6GJDXar_wJM",
        "outputId": "5785ce52-da71-4421-866c-121002a724fc"
      },
      "execution_count": null,
      "outputs": [
        {
          "output_type": "execute_result",
          "data": {
            "text/plain": [
              "(tensor([[[0.4627, 0.4627, 0.4706,  ..., 0.1882, 0.1255, 0.1137],\n",
              "          [0.4549, 0.4549, 0.4627,  ..., 0.1647, 0.0980, 0.0863],\n",
              "          [0.4941, 0.4902, 0.4941,  ..., 0.1020, 0.1098, 0.1098],\n",
              "          ...,\n",
              "          [0.6706, 0.6510, 0.6314,  ..., 0.7176, 0.7059, 0.6902],\n",
              "          [0.6353, 0.6706, 0.6314,  ..., 0.6824, 0.6902, 0.6745],\n",
              "          [0.5529, 0.6314, 0.6314,  ..., 0.7098, 0.7137, 0.7255]],\n",
              " \n",
              "         [[0.5216, 0.5216, 0.5294,  ..., 0.2784, 0.2039, 0.1882],\n",
              "          [0.5137, 0.5176, 0.5255,  ..., 0.2549, 0.1490, 0.1451],\n",
              "          [0.5373, 0.5373, 0.5490,  ..., 0.1608, 0.1804, 0.2157],\n",
              "          ...,\n",
              "          [0.6706, 0.6431, 0.6314,  ..., 0.6980, 0.6863, 0.6745],\n",
              "          [0.6471, 0.6471, 0.6118,  ..., 0.6706, 0.6784, 0.6588],\n",
              "          [0.5843, 0.6078, 0.6000,  ..., 0.7059, 0.7098, 0.7059]],\n",
              " \n",
              "         [[0.6549, 0.6510, 0.6588,  ..., 0.2549, 0.1451, 0.1176],\n",
              "          [0.6471, 0.6431, 0.6510,  ..., 0.2000, 0.0980, 0.0941],\n",
              "          [0.6588, 0.6549, 0.6667,  ..., 0.1059, 0.1176, 0.1333],\n",
              "          ...,\n",
              "          [0.6314, 0.6235, 0.6000,  ..., 0.6941, 0.6824, 0.6627],\n",
              "          [0.6039, 0.6235, 0.5843,  ..., 0.6667, 0.6706, 0.6353],\n",
              "          [0.5176, 0.5843, 0.5804,  ..., 0.6980, 0.7020, 0.6980]]]),\n",
              " 4)"
            ]
          },
          "metadata": {},
          "execution_count": 25
        }
      ]
    },
    {
      "cell_type": "code",
      "source": [
        "classo=train.classes"
      ],
      "metadata": {
        "id": "cVEr57yG_y6o"
      },
      "execution_count": null,
      "outputs": []
    },
    {
      "cell_type": "code",
      "source": [
        "classo"
      ],
      "metadata": {
        "colab": {
          "base_uri": "https://localhost:8080/"
        },
        "collapsed": true,
        "id": "eXIaTFVoAMfb",
        "outputId": "ec1f3b3e-8277-47dc-abe0-969f65b394eb"
      },
      "execution_count": null,
      "outputs": [
        {
          "output_type": "execute_result",
          "data": {
            "text/plain": [
              "['airplane',\n",
              " 'automobile',\n",
              " 'bird',\n",
              " 'cat',\n",
              " 'deer',\n",
              " 'dog',\n",
              " 'frog',\n",
              " 'horse',\n",
              " 'ship',\n",
              " 'truck']"
            ]
          },
          "metadata": {},
          "execution_count": 27
        }
      ]
    },
    {
      "cell_type": "code",
      "source": [
        "class_id=train.class_to_idx"
      ],
      "metadata": {
        "id": "88msbngGAaKf"
      },
      "execution_count": null,
      "outputs": []
    },
    {
      "cell_type": "code",
      "source": [
        "class_id"
      ],
      "metadata": {
        "colab": {
          "base_uri": "https://localhost:8080/"
        },
        "collapsed": true,
        "id": "D0aPw1bXAhMr",
        "outputId": "e4042411-ea0d-4a23-9bef-d5fd391dc95e"
      },
      "execution_count": null,
      "outputs": [
        {
          "output_type": "execute_result",
          "data": {
            "text/plain": [
              "{'airplane': 0,\n",
              " 'automobile': 1,\n",
              " 'bird': 2,\n",
              " 'cat': 3,\n",
              " 'deer': 4,\n",
              " 'dog': 5,\n",
              " 'frog': 6,\n",
              " 'horse': 7,\n",
              " 'ship': 8,\n",
              " 'truck': 9}"
            ]
          },
          "metadata": {},
          "execution_count": 29
        }
      ]
    },
    {
      "cell_type": "code",
      "source": [
        "import matplotlib.pyplot as plt\n",
        "im_np=image.permute(1,2,0).numpy()\n",
        "plt.imshow(im_np)"
      ],
      "metadata": {
        "colab": {
          "base_uri": "https://localhost:8080/",
          "height": 447
        },
        "id": "D3TIDvSJAiHe",
        "outputId": "5ad171fc-4557-42af-ad33-423910fd97ff"
      },
      "execution_count": null,
      "outputs": [
        {
          "output_type": "execute_result",
          "data": {
            "text/plain": [
              "<matplotlib.image.AxesImage at 0x7a9cd89c42c0>"
            ]
          },
          "metadata": {},
          "execution_count": 30
        },
        {
          "output_type": "display_data",
          "data": {
            "text/plain": [
              "<Figure size 640x480 with 1 Axes>"
            ],
            "image/png": "[encoded data removed]"
          },
          "metadata": {}
        }
      ]
    },
    {
      "cell_type": "code",
      "source": [
        "fig=plt.figure(figsize=(10,10))\n",
        "r,c=5,5\n",
        "for i in range(1,r*c+1):\n",
        "  rand=torch.randint(0,len(train),size=(1,)).item()\n",
        "  img,label=train[rand]\n",
        "  fig.add_subplot(r,c,i)\n",
        "  plt.imshow(img.permute(1,2,0).numpy())\n",
        "  plt.title(classo[label])\n",
        "  plt.axis('off')"
      ],
      "metadata": {
        "colab": {
          "base_uri": "https://localhost:8080/",
          "height": 829
        },
        "id": "dHRBKkuiAqTz",
        "outputId": "7c6b518a-8287-42f4-da80-fe89d78224c7"
      },
      "execution_count": null,
      "outputs": [
        {
          "output_type": "display_data",
          "data": {
            "text/plain": [
              "<Figure size 1000x1000 with 25 Axes>"
            ],
            "image/png": "[encoded data removed]"
          },
          "metadata": {}
        }
      ]
    },
    {
      "cell_type": "code",
      "source": [
        "class Model(nn.Module):\n",
        "  def __init__(self):\n",
        "    super().__init__()\n",
        "    self.layer1=nn.Sequential(\n",
        "        nn.Conv2d(3,64,3,padding=1),\n",
        "        nn.ReLU(),\n",
        "        nn.Conv2d(64,64,3,padding=1),\n",
        "        nn.ReLU(),\n",
        "        nn.MaxPool2d(kernel_size=2,stride=2)\n",
        "    )\n",
        "    self.layer2=nn.Sequential(\n",
        "        nn.Conv2d(64,128,3,padding=1),\n",
        "        nn.ReLU(),\n",
        "        nn.Conv2d(128,128,3,padding=1),\n",
        "        nn.ReLU(),\n",
        "        nn.MaxPool2d(kernel_size=2,stride=2)\n",
        "    )\n",
        "    self.layer3=nn.Sequential(\n",
        "        nn.Conv2d(128,256,3,padding=1),\n",
        "        nn.ReLU(),\n",
        "        nn.Conv2d(256,256,3,padding=1),\n",
        "        nn.ReLU(),\n",
        "        nn.MaxPool2d(2,2)\n",
        "    )\n",
        "    self.classify=nn.Sequential(\n",
        "        nn.AdaptiveAvgPool2d((1,1)),\n",
        "        nn.Flatten(),\n",
        "        nn.Linear(256,10)\n",
        "    )\n",
        "  def forward(self,x):\n",
        "    return self.classify(self.layer3(self.layer2(self.layer1(x))))"
      ],
      "metadata": {
        "id": "zCq0HoKgA6I0"
      },
      "execution_count": null,
      "outputs": []
    },
    {
      "cell_type": "code",
      "source": [
        "model=Model()"
      ],
      "metadata": {
        "id": "2AbZwutGcoIv"
      },
      "execution_count": null,
      "outputs": []
    },
    {
      "cell_type": "code",
      "source": [],
      "metadata": {
        "id": "XHucRMxxJ7hv"
      },
      "execution_count": null,
      "outputs": []
    },
    {
      "cell_type": "code",
      "source": [
        "model"
      ],
      "metadata": {
        "colab": {
          "base_uri": "https://localhost:8080/"
        },
        "id": "3GMlorT2J-Vl",
        "outputId": "99838bbc-9b08-4cea-edf9-9b163766fc40"
      },
      "execution_count": null,
      "outputs": [
        {
          "output_type": "execute_result",
          "data": {
            "text/plain": [
              "Model(\n",
              "  (layer1): Sequential(\n",
              "    (0): Conv2d(3, 64, kernel_size=(3, 3), stride=(1, 1), padding=(1, 1))\n",
              "    (1): ReLU()\n",
              "    (2): Conv2d(64, 64, kernel_size=(3, 3), stride=(1, 1), padding=(1, 1))\n",
              "    (3): ReLU()\n",
              "    (4): MaxPool2d(kernel_size=2, stride=2, padding=0, dilation=1, ceil_mode=False)\n",
              "  )\n",
              "  (layer2): Sequential(\n",
              "    (0): Conv2d(64, 128, kernel_size=(3, 3), stride=(1, 1), padding=(1, 1))\n",
              "    (1): ReLU()\n",
              "    (2): Conv2d(128, 128, kernel_size=(3, 3), stride=(1, 1), padding=(1, 1))\n",
              "    (3): ReLU()\n",
              "    (4): MaxPool2d(kernel_size=2, stride=2, padding=0, dilation=1, ceil_mode=False)\n",
              "  )\n",
              "  (layer3): Sequential(\n",
              "    (0): Conv2d(128, 256, kernel_size=(3, 3), stride=(1, 1), padding=(1, 1))\n",
              "    (1): ReLU()\n",
              "    (2): Conv2d(256, 256, kernel_size=(3, 3), stride=(1, 1), padding=(1, 1))\n",
              "    (3): ReLU()\n",
              "    (4): MaxPool2d(kernel_size=2, stride=2, padding=0, dilation=1, ceil_mode=False)\n",
              "  )\n",
              "  (classify): Sequential(\n",
              "    (0): AdaptiveAvgPool2d(output_size=(1, 1))\n",
              "    (1): Flatten(start_dim=1, end_dim=-1)\n",
              "    (2): Linear(in_features=256, out_features=10, bias=True)\n",
              "  )\n",
              ")"
            ]
          },
          "metadata": {},
          "execution_count": 39
        }
      ]
    },
    {
      "cell_type": "code",
      "source": [
        "lossf=nn.CrossEntropyLoss()\n",
        "optim=torch.optim.Adam(model.parameters(),lr=1e-4)\n",
        "sch=torch.optim.lr_scheduler.ReduceLROnPlateau(optim, mode='min', factor=0.3, patience=2)"
      ],
      "metadata": {
        "id": "xh3NsqAGKEe_"
      },
      "execution_count": null,
      "outputs": []
    },
    {
      "cell_type": "code",
      "source": [
        "from tqdm.auto import tqdm\n",
        "torch.manual_seed(69)\n",
        "from sklearn.metrics import accuracy_score\n",
        "\n",
        "epochs=10\n",
        "\n",
        "for epoch in tqdm(range(epochs)):\n",
        "  train_loss=0\n",
        "  model.train()\n",
        "  for batch,(X,y) in enumerate(training):\n",
        "    y_preds=model(X)\n",
        "    loss=lossf(y_preds,y)\n",
        "    train_loss+=loss.item()\n",
        "    optim.zero_grad()\n",
        "    loss.backward()\n",
        "    optim.step()\n",
        "\n",
        "    if batch%100==0:\n",
        "      print(f\"Looked at {batch * len(X)}/{len(training.dataset)} samples\")\n",
        "\n",
        "  train_loss/=len(training)\n",
        "  test_loss=0\n",
        "  test_accuracy=0\n",
        "  model.eval()\n",
        "  with torch.inference_mode():\n",
        "    for X,y in testing:\n",
        "      test_preds=model(X)\n",
        "      loss=lossf(test_preds,y)\n",
        "      test_loss+=loss.item()\n",
        "      test_accuracy+= accuracy_score(y.numpy(),test_preds.argmax(dim=1).numpy())\n",
        "    test_loss /= len(testing)\n",
        "    test_accuracy /= len(testing)\n",
        "    print(f\"\\nTrain loss: {train_loss:.5f} | Test loss: {test_loss:.5f}, Test acc: {test_accuracy:.2f}%\\n\")\n",
        "    sch.step(test_loss)"
      ],
      "metadata": {
        "colab": {
          "base_uri": "https://localhost:8080/",
          "height": 1000,
          "referenced_widgets": [
            "429fc27cb9e145a6b1db968a419386c2",
            "d0e5f8a05b82421b8ed50fe15e0fd5a9",
            "bd41a7a30a16467f99a9a6d762583494",
            "71260ef9039e4277ade9c7b047e45986",
            "763ea406901149f08565ded4c7db9cd0",
            "2887f7e029844e50a5c1d161bd6c2f39",
            "dfdda42dc7344725b4d9706110f9d7f9",
            "1bc85e26dbae4a9e87c8a35a2f70979d",
            "0aeb1ba99a774928ab8041194638de3d",
            "1e8cc388c0a2465085ac70e4bf740264",
            "832876e8960548568dbe5b88c209962e"
          ]
        },
        "id": "OE_Mc-co5Ae4",
        "outputId": "445c8d4d-471a-4e3f-81c3-f60243274d7c"
      },
      "execution_count": null,
      "outputs": [
        {
          "output_type": "display_data",
          "data": {
            "text/plain": [
              "  0%|          | 0/10 [00:00<?, ?it/s]"
            ],
            "application/vnd.jupyter.widget-view+json": {
              "version_major": 2,
              "version_minor": 0,
              "model_id": "429fc27cb9e145a6b1db968a419386c2"
            }
          },
          "metadata": {}
        },
        {
          "output_type": "stream",
          "name": "stdout",
          "text": [
            "Looked at 0/50000 samples\n",
            "Looked at 3300/50000 samples\n",
            "Looked at 6600/50000 samples\n",
            "Looked at 9900/50000 samples\n",
            "Looked at 13200/50000 samples\n",
            "Looked at 16500/50000 samples\n",
            "Looked at 19800/50000 samples\n",
            "Looked at 23100/50000 samples\n",
            "Looked at 26400/50000 samples\n",
            "Looked at 29700/50000 samples\n",
            "Looked at 33000/50000 samples\n",
            "Looked at 36300/50000 samples\n",
            "Looked at 39600/50000 samples\n",
            "Looked at 42900/50000 samples\n",
            "Looked at 46200/50000 samples\n",
            "Looked at 49500/50000 samples\n",
            "\n",
            "Train loss: 1.68826 | Test loss: 1.56056, Test acc: 0.42%\n",
            "\n",
            "Looked at 0/50000 samples\n",
            "Looked at 3300/50000 samples\n",
            "Looked at 6600/50000 samples\n",
            "Looked at 9900/50000 samples\n",
            "Looked at 13200/50000 samples\n",
            "Looked at 16500/50000 samples\n",
            "Looked at 19800/50000 samples\n",
            "Looked at 23100/50000 samples\n",
            "Looked at 26400/50000 samples\n",
            "Looked at 29700/50000 samples\n",
            "Looked at 33000/50000 samples\n",
            "Looked at 36300/50000 samples\n",
            "Looked at 39600/50000 samples\n",
            "Looked at 42900/50000 samples\n",
            "Looked at 46200/50000 samples\n",
            "Looked at 49500/50000 samples\n",
            "\n",
            "Train loss: 1.48372 | Test loss: 1.42303, Test acc: 0.48%\n",
            "\n",
            "Looked at 0/50000 samples\n",
            "Looked at 3300/50000 samples\n",
            "Looked at 6600/50000 samples\n",
            "Looked at 9900/50000 samples\n",
            "Looked at 13200/50000 samples\n",
            "Looked at 16500/50000 samples\n",
            "Looked at 19800/50000 samples\n",
            "Looked at 23100/50000 samples\n",
            "Looked at 26400/50000 samples\n",
            "Looked at 29700/50000 samples\n",
            "Looked at 33000/50000 samples\n",
            "Looked at 36300/50000 samples\n",
            "Looked at 39600/50000 samples\n",
            "Looked at 42900/50000 samples\n",
            "Looked at 46200/50000 samples\n",
            "Looked at 49500/50000 samples\n",
            "\n",
            "Train loss: 1.36588 | Test loss: 1.31451, Test acc: 0.52%\n",
            "\n",
            "Looked at 0/50000 samples\n",
            "Looked at 3300/50000 samples\n",
            "Looked at 6600/50000 samples\n",
            "Looked at 9900/50000 samples\n",
            "Looked at 13200/50000 samples\n",
            "Looked at 16500/50000 samples\n",
            "Looked at 19800/50000 samples\n",
            "Looked at 23100/50000 samples\n",
            "Looked at 26400/50000 samples\n",
            "Looked at 29700/50000 samples\n",
            "Looked at 33000/50000 samples\n",
            "Looked at 36300/50000 samples\n",
            "Looked at 39600/50000 samples\n",
            "Looked at 42900/50000 samples\n",
            "Looked at 46200/50000 samples\n",
            "Looked at 49500/50000 samples\n",
            "\n",
            "Train loss: 1.25912 | Test loss: 1.24533, Test acc: 0.55%\n",
            "\n",
            "Looked at 0/50000 samples\n",
            "Looked at 3300/50000 samples\n",
            "Looked at 6600/50000 samples\n",
            "Looked at 9900/50000 samples\n",
            "Looked at 13200/50000 samples\n",
            "Looked at 16500/50000 samples\n",
            "Looked at 19800/50000 samples\n",
            "Looked at 23100/50000 samples\n",
            "Looked at 26400/50000 samples\n",
            "Looked at 29700/50000 samples\n",
            "Looked at 33000/50000 samples\n",
            "Looked at 36300/50000 samples\n",
            "Looked at 39600/50000 samples\n",
            "Looked at 42900/50000 samples\n",
            "Looked at 46200/50000 samples\n",
            "Looked at 49500/50000 samples\n",
            "\n",
            "Train loss: 1.16657 | Test loss: 1.19776, Test acc: 0.56%\n",
            "\n",
            "Looked at 0/50000 samples\n",
            "Looked at 3300/50000 samples\n",
            "Looked at 6600/50000 samples\n",
            "Looked at 9900/50000 samples\n",
            "Looked at 13200/50000 samples\n",
            "Looked at 16500/50000 samples\n",
            "Looked at 19800/50000 samples\n",
            "Looked at 23100/50000 samples\n",
            "Looked at 26400/50000 samples\n",
            "Looked at 29700/50000 samples\n",
            "Looked at 33000/50000 samples\n",
            "Looked at 36300/50000 samples\n",
            "Looked at 39600/50000 samples\n",
            "Looked at 42900/50000 samples\n",
            "Looked at 46200/50000 samples\n",
            "Looked at 49500/50000 samples\n",
            "\n",
            "Train loss: 1.09511 | Test loss: 1.08613, Test acc: 0.61%\n",
            "\n",
            "Looked at 0/50000 samples\n",
            "Looked at 3300/50000 samples\n",
            "Looked at 6600/50000 samples\n",
            "Looked at 9900/50000 samples\n",
            "Looked at 13200/50000 samples\n",
            "Looked at 16500/50000 samples\n",
            "Looked at 19800/50000 samples\n",
            "Looked at 23100/50000 samples\n",
            "Looked at 26400/50000 samples\n",
            "Looked at 29700/50000 samples\n",
            "Looked at 33000/50000 samples\n",
            "Looked at 36300/50000 samples\n",
            "Looked at 39600/50000 samples\n",
            "Looked at 42900/50000 samples\n",
            "Looked at 46200/50000 samples\n",
            "Looked at 49500/50000 samples\n",
            "\n",
            "Train loss: 1.03174 | Test loss: 0.99152, Test acc: 0.64%\n",
            "\n",
            "Looked at 0/50000 samples\n",
            "Looked at 3300/50000 samples\n",
            "Looked at 6600/50000 samples\n",
            "Looked at 9900/50000 samples\n",
            "Looked at 13200/50000 samples\n",
            "Looked at 16500/50000 samples\n",
            "Looked at 19800/50000 samples\n",
            "Looked at 23100/50000 samples\n",
            "Looked at 26400/50000 samples\n",
            "Looked at 29700/50000 samples\n",
            "Looked at 33000/50000 samples\n",
            "Looked at 36300/50000 samples\n",
            "Looked at 39600/50000 samples\n",
            "Looked at 42900/50000 samples\n",
            "Looked at 46200/50000 samples\n",
            "Looked at 49500/50000 samples\n",
            "\n",
            "Train loss: 0.97693 | Test loss: 0.96405, Test acc: 0.65%\n",
            "\n",
            "Looked at 0/50000 samples\n",
            "Looked at 3300/50000 samples\n",
            "Looked at 6600/50000 samples\n",
            "Looked at 9900/50000 samples\n",
            "Looked at 13200/50000 samples\n",
            "Looked at 16500/50000 samples\n",
            "Looked at 19800/50000 samples\n",
            "Looked at 23100/50000 samples\n",
            "Looked at 26400/50000 samples\n",
            "Looked at 29700/50000 samples\n",
            "Looked at 33000/50000 samples\n",
            "Looked at 36300/50000 samples\n",
            "Looked at 39600/50000 samples\n",
            "Looked at 42900/50000 samples\n",
            "Looked at 46200/50000 samples\n",
            "Looked at 49500/50000 samples\n",
            "\n",
            "Train loss: 0.93450 | Test loss: 0.98153, Test acc: 0.65%\n",
            "\n",
            "Looked at 0/50000 samples\n",
            "Looked at 3300/50000 samples\n",
            "Looked at 6600/50000 samples\n",
            "Looked at 9900/50000 samples\n",
            "Looked at 13200/50000 samples\n",
            "Looked at 16500/50000 samples\n",
            "Looked at 19800/50000 samples\n",
            "Looked at 23100/50000 samples\n",
            "Looked at 26400/50000 samples\n",
            "Looked at 29700/50000 samples\n",
            "Looked at 33000/50000 samples\n",
            "Looked at 36300/50000 samples\n",
            "Looked at 39600/50000 samples\n",
            "Looked at 42900/50000 samples\n",
            "Looked at 46200/50000 samples\n",
            "Looked at 49500/50000 samples\n",
            "\n",
            "Train loss: 0.90060 | Test loss: 0.89472, Test acc: 0.68%\n",
            "\n"
          ]
        }
      ]
    },
    {
      "cell_type": "code",
      "source": [],
      "metadata": {
        "id": "aelZ32NlQV3X"
      },
      "execution_count": null,
      "outputs": []
    },
    {
      "cell_type": "code",
      "source": [],
      "metadata": {
        "id": "1O4E-fxQ2IJf"
      },
      "execution_count": null,
      "outputs": []
    }
  ]
}